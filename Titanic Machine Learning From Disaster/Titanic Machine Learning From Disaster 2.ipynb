{
 "cells": [
  {
   "cell_type": "code",
   "execution_count": 1,
   "metadata": {},
   "outputs": [
    {
     "name": "stdout",
     "output_type": "stream",
     "text": [
      "-------------------------\n"
     ]
    }
   ],
   "source": [
    "import sys\n",
    "import pandas as pd\n",
    "import matplotlib\n",
    "import numpy as np\n",
    "import scipy as sp\n",
    "import IPython\n",
    "from IPython import display\n",
    "import sklearn\n",
    "import random\n",
    "import time\n",
    "import warnings\n",
    "warnings.filterwarnings('ignore')\n",
    "print('-'*25)\n",
    "\n",
    "from sklearn import svm, tree, linear_model, neighbors, naive_bayes, ensemble, discriminant_analysis, gaussian_process\n",
    "\n",
    "from sklearn.preprocessing import OneHotEncoder, LabelEncoder\n",
    "from sklearn import feature_selection\n",
    "from sklearn import model_selection\n",
    "from sklearn import metrics\n",
    "\n",
    "import matplotlib as mpl\n",
    "import matplotlib.pyplot as plt\n",
    "import matplotlib.pylab as pylab\n",
    "import seaborn as sns\n",
    "from pandas.tools.plotting import scatter_matrix"
   ]
  },
  {
   "cell_type": "code",
   "execution_count": 2,
   "metadata": {},
   "outputs": [],
   "source": [
    "mpl.style.use('ggplot')\n",
    "sns.set_style('white')\n",
    "pylab.rcParams['figure.figsize'] = 12,8"
   ]
  },
  {
   "cell_type": "markdown",
   "metadata": {},
   "source": [
    "## Read data"
   ]
  },
  {
   "cell_type": "code",
   "execution_count": 3,
   "metadata": {},
   "outputs": [],
   "source": [
    "data_raw = pd.read_csv(r'C:\\Users\\pc\\Desktop\\Data Science Folder\\Titanic Machine Learning From Disaster\\train.csv')\n",
    "data_val  = pd.read_csv(r'C:\\Users\\pc\\Desktop\\Data Science Folder\\Titanic Machine Learning From Disaster\\test.csv')"
   ]
  },
  {
   "cell_type": "code",
   "execution_count": 4,
   "metadata": {},
   "outputs": [],
   "source": [
    "data1 = data_raw.copy(deep = True)\n",
    "data_cleaner = [data1, data_val]"
   ]
  },
  {
   "cell_type": "code",
   "execution_count": 5,
   "metadata": {},
   "outputs": [
    {
     "name": "stdout",
     "output_type": "stream",
     "text": [
      "Train columns with null values:\n",
      " PassengerId      0\n",
      "Survived         0\n",
      "Pclass           0\n",
      "Name             0\n",
      "Sex              0\n",
      "Age            177\n",
      "SibSp            0\n",
      "Parch            0\n",
      "Ticket           0\n",
      "Fare             0\n",
      "Cabin          687\n",
      "Embarked         2\n",
      "dtype: int64\n",
      "----------\n",
      "Test/Validation columns with null values:\n",
      " PassengerId      0\n",
      "Pclass           0\n",
      "Name             0\n",
      "Sex              0\n",
      "Age             86\n",
      "SibSp            0\n",
      "Parch            0\n",
      "Ticket           0\n",
      "Fare             1\n",
      "Cabin          327\n",
      "Embarked         0\n",
      "dtype: int64\n",
      "----------\n"
     ]
    }
   ],
   "source": [
    "print('Train columns with null values:\\n', data1.isnull().sum())\n",
    "print(\"-\"*10)\n",
    "\n",
    "print('Test/Validation columns with null values:\\n', data_val.isnull().sum())\n",
    "print(\"-\"*10)"
   ]
  },
  {
   "cell_type": "markdown",
   "metadata": {},
   "source": [
    "## Fill missing values\n"
   ]
  },
  {
   "cell_type": "code",
   "execution_count": 6,
   "metadata": {},
   "outputs": [],
   "source": [
    "for dataset in data_cleaner:    \n",
    "    \n",
    "    dataset['Age'].fillna(dataset['Age'].median(), inplace = True)\n",
    "\n",
    "    dataset['Embarked'].fillna(dataset['Embarked'].mode()[0], inplace = True)\n",
    "\n",
    "    dataset['Fare'].fillna(dataset['Fare'].median(), inplace = True)"
   ]
  },
  {
   "cell_type": "markdown",
   "metadata": {},
   "source": [
    "## Drop unnecessary data"
   ]
  },
  {
   "cell_type": "code",
   "execution_count": 8,
   "metadata": {},
   "outputs": [],
   "source": [
    "drop_column = ['PassengerId','Cabin', 'Ticket']\n",
    "data1.drop(drop_column, axis=1, inplace = True)"
   ]
  },
  {
   "cell_type": "code",
   "execution_count": 7,
   "metadata": {},
   "outputs": [
    {
     "name": "stdout",
     "output_type": "stream",
     "text": [
      "PassengerId      0\n",
      "Survived         0\n",
      "Pclass           0\n",
      "Name             0\n",
      "Sex              0\n",
      "Age              0\n",
      "SibSp            0\n",
      "Parch            0\n",
      "Ticket           0\n",
      "Fare             0\n",
      "Cabin          687\n",
      "Embarked         0\n",
      "dtype: int64\n",
      "----------\n",
      "PassengerId      0\n",
      "Pclass           0\n",
      "Name             0\n",
      "Sex              0\n",
      "Age              0\n",
      "SibSp            0\n",
      "Parch            0\n",
      "Ticket           0\n",
      "Fare             0\n",
      "Cabin          327\n",
      "Embarked         0\n",
      "dtype: int64\n"
     ]
    }
   ],
   "source": [
    "print(data1.isnull().sum())\n",
    "print(\"-\"*10)\n",
    "print(data_val.isnull().sum())"
   ]
  },
  {
   "cell_type": "markdown",
   "metadata": {},
   "source": [
    "## Adding new columns to data1 and data_val"
   ]
  },
  {
   "cell_type": "code",
   "execution_count": 9,
   "metadata": {},
   "outputs": [],
   "source": [
    "for dataset in data_cleaner:    \n",
    "    \n",
    "    dataset['FamilySize'] = dataset ['SibSp'] + dataset['Parch'] + 1\n",
    "\n",
    "    dataset['IsAlone'] = 1 #initialize to yes/1 is alone\n",
    "   \n",
    "    dataset['IsAlone'][dataset['FamilySize'] > 1] = 0\n",
    "\n",
    "    dataset['Title'] = dataset['Name'].str.split(\", \", expand=True)[1].str.split(\".\", expand=True)[0]\n",
    "\n",
    "    dataset['FareBin'] = pd.qcut(dataset['Fare'], 4)\n",
    "\n",
    "    dataset['AgeBin'] = pd.cut(dataset['Age'].astype(int), 5)\n"
   ]
  },
  {
   "cell_type": "markdown",
   "metadata": {},
   "source": [
    "## Modify 'Title' column"
   ]
  },
  {
   "cell_type": "code",
   "execution_count": 10,
   "metadata": {},
   "outputs": [
    {
     "name": "stdout",
     "output_type": "stream",
     "text": [
      "******before******\n",
      " Mr              517\n",
      "Miss            182\n",
      "Mrs             125\n",
      "Master           40\n",
      "Dr                7\n",
      "Rev               6\n",
      "Major             2\n",
      "Col               2\n",
      "Mlle              2\n",
      "Mme               1\n",
      "Capt              1\n",
      "Ms                1\n",
      "Lady              1\n",
      "the Countess      1\n",
      "Don               1\n",
      "Sir               1\n",
      "Jonkheer          1\n",
      "Name: Title, dtype: int64 \n",
      "\n",
      "******after*******\n",
      " Mr        517\n",
      "Miss      182\n",
      "Mrs       125\n",
      "Master     40\n",
      "Misc       27\n",
      "Name: Title, dtype: int64\n"
     ]
    }
   ],
   "source": [
    "print('******before******\\n' , data1['Title'].value_counts(), '\\n')\n",
    "\n",
    "title_names = data1['Title'].value_counts() < 10 \n",
    "data1['Title'] = data1['Title'].apply(lambda x: 'Misc' if title_names.loc[x] == True else x)\n",
    "\n",
    "print('******after*******\\n' , data1['Title'].value_counts())"
   ]
  },
  {
   "cell_type": "markdown",
   "metadata": {},
   "source": [
    "## Introduction to LabelEncoder().fit_transform"
   ]
  },
  {
   "cell_type": "code",
   "execution_count": 11,
   "metadata": {},
   "outputs": [
    {
     "name": "stdout",
     "output_type": "stream",
     "text": [
      "[2 0 2 2 2 1 2 2 2 0 2 2 2 2 2 2 1 2 2 0]\n"
     ]
    }
   ],
   "source": [
    "print( LabelEncoder().fit_transform( data1['Embarked'] )[ range(0,20)] )"
   ]
  },
  {
   "cell_type": "markdown",
   "metadata": {},
   "source": [
    "\n",
    "## Adding new columns to data1 and data_val"
   ]
  },
  {
   "cell_type": "code",
   "execution_count": 12,
   "metadata": {},
   "outputs": [],
   "source": [
    "label = LabelEncoder()\n",
    "for dataset in data_cleaner:    \n",
    "    dataset['Sex_Code'] = label.fit_transform(dataset['Sex'])\n",
    "    dataset['Embarked_Code'] = label.fit_transform(dataset['Embarked'])\n",
    "    dataset['Title_Code'] = label.fit_transform(dataset['Title'])\n",
    "    dataset['AgeBin_Code'] = label.fit_transform(dataset['AgeBin'])\n",
    "    dataset['FareBin_Code'] = label.fit_transform(dataset['FareBin'])"
   ]
  },
  {
   "cell_type": "markdown",
   "metadata": {},
   "source": [
    "## Lists containing column names\n"
   ]
  },
  {
   "cell_type": "code",
   "execution_count": 13,
   "metadata": {},
   "outputs": [],
   "source": [
    "Target = ['Survived']\n",
    "\n",
    "data1_x = ['Sex','Pclass', 'Embarked', 'Title','SibSp', 'Parch', 'Age', 'Fare', 'FamilySize', 'IsAlone']\n",
    "data1_xy =  Target + data1_x\n",
    "\n",
    "data1_x_calc = ['Sex_Code','Pclass', 'Embarked_Code', 'Title_Code','SibSp', 'Parch', 'Age', 'Fare'] #coded for algorithm calculation\n",
    "\n",
    "\n",
    "data1_x_bin = ['Sex_Code','Pclass', 'Embarked_Code', 'Title_Code', 'FamilySize', 'AgeBin_Code', 'FareBin_Code']\n",
    "data1_xy_bin = Target + data1_x_bin\n",
    "\n",
    "data1_dummy = pd.get_dummies( data1[data1_x] )\n",
    "data1_x_dummy = data1_dummy.columns.tolist()\n",
    "\n"
   ]
  },
  {
   "cell_type": "code",
   "execution_count": 14,
   "metadata": {
    "scrolled": false
   },
   "outputs": [
    {
     "name": "stdout",
     "output_type": "stream",
     "text": [
      "     Pclass  SibSp  Parch   Age      Fare  FamilySize  IsAlone  Sex_female  \\\n",
      "0         3      1      0  22.0    7.2500           2        0           0   \n",
      "1         1      1      0  38.0   71.2833           2        0           1   \n",
      "2         3      0      0  26.0    7.9250           1        1           1   \n",
      "3         1      1      0  35.0   53.1000           2        0           1   \n",
      "4         3      0      0  35.0    8.0500           1        1           0   \n",
      "5         3      0      0  28.0    8.4583           1        1           0   \n",
      "6         1      0      0  54.0   51.8625           1        1           0   \n",
      "7         3      3      1   2.0   21.0750           5        0           0   \n",
      "8         3      0      2  27.0   11.1333           3        0           1   \n",
      "9         2      1      0  14.0   30.0708           2        0           1   \n",
      "10        3      1      1   4.0   16.7000           3        0           1   \n",
      "11        1      0      0  58.0   26.5500           1        1           1   \n",
      "12        3      0      0  20.0    8.0500           1        1           0   \n",
      "13        3      1      5  39.0   31.2750           7        0           0   \n",
      "14        3      0      0  14.0    7.8542           1        1           1   \n",
      "15        2      0      0  55.0   16.0000           1        1           1   \n",
      "16        3      4      1   2.0   29.1250           6        0           0   \n",
      "17        2      0      0  28.0   13.0000           1        1           0   \n",
      "18        3      1      0  31.0   18.0000           2        0           1   \n",
      "19        3      0      0  28.0    7.2250           1        1           1   \n",
      "20        2      0      0  35.0   26.0000           1        1           0   \n",
      "21        2      0      0  34.0   13.0000           1        1           0   \n",
      "22        3      0      0  15.0    8.0292           1        1           1   \n",
      "23        1      0      0  28.0   35.5000           1        1           0   \n",
      "24        3      3      1   8.0   21.0750           5        0           1   \n",
      "25        3      1      5  38.0   31.3875           7        0           1   \n",
      "26        3      0      0  28.0    7.2250           1        1           0   \n",
      "27        1      3      2  19.0  263.0000           6        0           0   \n",
      "28        3      0      0  28.0    7.8792           1        1           1   \n",
      "29        3      0      0  28.0    7.8958           1        1           0   \n",
      "..      ...    ...    ...   ...       ...         ...      ...         ...   \n",
      "861       2      1      0  21.0   11.5000           2        0           0   \n",
      "862       1      0      0  48.0   25.9292           1        1           1   \n",
      "863       3      8      2  28.0   69.5500          11        0           1   \n",
      "864       2      0      0  24.0   13.0000           1        1           0   \n",
      "865       2      0      0  42.0   13.0000           1        1           1   \n",
      "866       2      1      0  27.0   13.8583           2        0           1   \n",
      "867       1      0      0  31.0   50.4958           1        1           0   \n",
      "868       3      0      0  28.0    9.5000           1        1           0   \n",
      "869       3      1      1   4.0   11.1333           3        0           0   \n",
      "870       3      0      0  26.0    7.8958           1        1           0   \n",
      "871       1      1      1  47.0   52.5542           3        0           1   \n",
      "872       1      0      0  33.0    5.0000           1        1           0   \n",
      "873       3      0      0  47.0    9.0000           1        1           0   \n",
      "874       2      1      0  28.0   24.0000           2        0           1   \n",
      "875       3      0      0  15.0    7.2250           1        1           1   \n",
      "876       3      0      0  20.0    9.8458           1        1           0   \n",
      "877       3      0      0  19.0    7.8958           1        1           0   \n",
      "878       3      0      0  28.0    7.8958           1        1           0   \n",
      "879       1      0      1  56.0   83.1583           2        0           1   \n",
      "880       2      0      1  25.0   26.0000           2        0           1   \n",
      "881       3      0      0  33.0    7.8958           1        1           0   \n",
      "882       3      0      0  22.0   10.5167           1        1           1   \n",
      "883       2      0      0  28.0   10.5000           1        1           0   \n",
      "884       3      0      0  25.0    7.0500           1        1           0   \n",
      "885       3      0      5  39.0   29.1250           6        0           1   \n",
      "886       2      0      0  27.0   13.0000           1        1           0   \n",
      "887       1      0      0  19.0   30.0000           1        1           1   \n",
      "888       3      1      2  28.0   23.4500           4        0           1   \n",
      "889       1      0      0  26.0   30.0000           1        1           0   \n",
      "890       3      0      0  32.0    7.7500           1        1           0   \n",
      "\n",
      "     Sex_male  Embarked_C  Embarked_Q  Embarked_S  Title_Master  Title_Misc  \\\n",
      "0           1           0           0           1             0           0   \n",
      "1           0           1           0           0             0           0   \n",
      "2           0           0           0           1             0           0   \n",
      "3           0           0           0           1             0           0   \n",
      "4           1           0           0           1             0           0   \n",
      "5           1           0           1           0             0           0   \n",
      "6           1           0           0           1             0           0   \n",
      "7           1           0           0           1             1           0   \n",
      "8           0           0           0           1             0           0   \n",
      "9           0           1           0           0             0           0   \n",
      "10          0           0           0           1             0           0   \n",
      "11          0           0           0           1             0           0   \n",
      "12          1           0           0           1             0           0   \n",
      "13          1           0           0           1             0           0   \n",
      "14          0           0           0           1             0           0   \n",
      "15          0           0           0           1             0           0   \n",
      "16          1           0           1           0             1           0   \n",
      "17          1           0           0           1             0           0   \n",
      "18          0           0           0           1             0           0   \n",
      "19          0           1           0           0             0           0   \n",
      "20          1           0           0           1             0           0   \n",
      "21          1           0           0           1             0           0   \n",
      "22          0           0           1           0             0           0   \n",
      "23          1           0           0           1             0           0   \n",
      "24          0           0           0           1             0           0   \n",
      "25          0           0           0           1             0           0   \n",
      "26          1           1           0           0             0           0   \n",
      "27          1           0           0           1             0           0   \n",
      "28          0           0           1           0             0           0   \n",
      "29          1           0           0           1             0           0   \n",
      "..        ...         ...         ...         ...           ...         ...   \n",
      "861         1           0           0           1             0           0   \n",
      "862         0           0           0           1             0           0   \n",
      "863         0           0           0           1             0           0   \n",
      "864         1           0           0           1             0           0   \n",
      "865         0           0           0           1             0           0   \n",
      "866         0           1           0           0             0           0   \n",
      "867         1           0           0           1             0           0   \n",
      "868         1           0           0           1             0           0   \n",
      "869         1           0           0           1             1           0   \n",
      "870         1           0           0           1             0           0   \n",
      "871         0           0           0           1             0           0   \n",
      "872         1           0           0           1             0           0   \n",
      "873         1           0           0           1             0           0   \n",
      "874         0           1           0           0             0           0   \n",
      "875         0           1           0           0             0           0   \n",
      "876         1           0           0           1             0           0   \n",
      "877         1           0           0           1             0           0   \n",
      "878         1           0           0           1             0           0   \n",
      "879         0           1           0           0             0           0   \n",
      "880         0           0           0           1             0           0   \n",
      "881         1           0           0           1             0           0   \n",
      "882         0           0           0           1             0           0   \n",
      "883         1           0           0           1             0           0   \n",
      "884         1           0           0           1             0           0   \n",
      "885         0           0           1           0             0           0   \n",
      "886         1           0           0           1             0           1   \n",
      "887         0           0           0           1             0           0   \n",
      "888         0           0           0           1             0           0   \n",
      "889         1           1           0           0             0           0   \n",
      "890         1           0           1           0             0           0   \n",
      "\n",
      "     Title_Miss  Title_Mr  Title_Mrs  \n",
      "0             0         1          0  \n",
      "1             0         0          1  \n",
      "2             1         0          0  \n",
      "3             0         0          1  \n",
      "4             0         1          0  \n",
      "5             0         1          0  \n",
      "6             0         1          0  \n",
      "7             0         0          0  \n",
      "8             0         0          1  \n",
      "9             0         0          1  \n",
      "10            1         0          0  \n",
      "11            1         0          0  \n",
      "12            0         1          0  \n",
      "13            0         1          0  \n",
      "14            1         0          0  \n",
      "15            0         0          1  \n",
      "16            0         0          0  \n",
      "17            0         1          0  \n",
      "18            0         0          1  \n",
      "19            0         0          1  \n",
      "20            0         1          0  \n",
      "21            0         1          0  \n",
      "22            1         0          0  \n",
      "23            0         1          0  \n",
      "24            1         0          0  \n",
      "25            0         0          1  \n",
      "26            0         1          0  \n",
      "27            0         1          0  \n",
      "28            1         0          0  \n",
      "29            0         1          0  \n",
      "..          ...       ...        ...  \n",
      "861           0         1          0  \n",
      "862           0         0          1  \n",
      "863           1         0          0  \n",
      "864           0         1          0  \n",
      "865           0         0          1  \n",
      "866           1         0          0  \n",
      "867           0         1          0  \n",
      "868           0         1          0  \n",
      "869           0         0          0  \n",
      "870           0         1          0  \n",
      "871           0         0          1  \n",
      "872           0         1          0  \n",
      "873           0         1          0  \n",
      "874           0         0          1  \n",
      "875           1         0          0  \n",
      "876           0         1          0  \n",
      "877           0         1          0  \n",
      "878           0         1          0  \n",
      "879           0         0          1  \n",
      "880           0         0          1  \n",
      "881           0         1          0  \n",
      "882           1         0          0  \n",
      "883           0         1          0  \n",
      "884           0         1          0  \n",
      "885           0         0          1  \n",
      "886           0         0          0  \n",
      "887           1         0          0  \n",
      "888           1         0          0  \n",
      "889           0         1          0  \n",
      "890           0         1          0  \n",
      "\n",
      "[891 rows x 17 columns]\n",
      "<class 'pandas.core.indexes.base.Index'>\n",
      "['Pclass', 'SibSp', 'Parch', 'Age', 'Fare', 'FamilySize', 'IsAlone', 'Sex_female', 'Sex_male', 'Embarked_C', 'Embarked_Q', 'Embarked_S', 'Title_Master', 'Title_Misc', 'Title_Miss', 'Title_Mr', 'Title_Mrs']\n",
      "0      1\n",
      "1      0\n",
      "2      0\n",
      "3      0\n",
      "4      1\n",
      "5      1\n",
      "6      1\n",
      "7      1\n",
      "8      0\n",
      "9      0\n",
      "10     0\n",
      "11     0\n",
      "12     1\n",
      "13     1\n",
      "14     0\n",
      "15     0\n",
      "16     1\n",
      "17     1\n",
      "18     0\n",
      "19     0\n",
      "20     1\n",
      "21     1\n",
      "22     0\n",
      "23     1\n",
      "24     0\n",
      "25     0\n",
      "26     1\n",
      "27     1\n",
      "28     0\n",
      "29     1\n",
      "      ..\n",
      "861    1\n",
      "862    0\n",
      "863    0\n",
      "864    1\n",
      "865    0\n",
      "866    0\n",
      "867    1\n",
      "868    1\n",
      "869    1\n",
      "870    1\n",
      "871    0\n",
      "872    1\n",
      "873    1\n",
      "874    0\n",
      "875    0\n",
      "876    1\n",
      "877    1\n",
      "878    1\n",
      "879    0\n",
      "880    0\n",
      "881    1\n",
      "882    0\n",
      "883    1\n",
      "884    1\n",
      "885    0\n",
      "886    1\n",
      "887    0\n",
      "888    0\n",
      "889    1\n",
      "890    1\n",
      "Name: Sex_Code, Length: 891, dtype: int32\n"
     ]
    }
   ],
   "source": [
    "\n",
    "#**** for learning ***** \n",
    "print( data1_dummy )\n",
    "print ( type(data1_dummy.columns) )\n",
    "L = list(data1_dummy.columns)\n",
    "print(L)\n",
    "print( data1['Sex_Code'])"
   ]
  },
  {
   "cell_type": "code",
   "execution_count": 15,
   "metadata": {},
   "outputs": [
    {
     "name": "stdout",
     "output_type": "stream",
     "text": [
      "Dummy X Y:  ['Survived', 'Pclass', 'SibSp', 'Parch', 'Age', 'Fare', 'FamilySize', 'IsAlone', 'Sex_female', 'Sex_male', 'Embarked_C', 'Embarked_Q', 'Embarked_S', 'Title_Master', 'Title_Misc', 'Title_Miss', 'Title_Mr', 'Title_Mrs'] \n",
      "\n"
     ]
    }
   ],
   "source": [
    "data1_xy_dummy = Target + data1_x_dummy\n",
    "\n",
    "print('Dummy X Y: ', data1_xy_dummy, '\\n')\n"
   ]
  },
  {
   "cell_type": "markdown",
   "metadata": {},
   "source": [
    "## Checking the clean data"
   ]
  },
  {
   "cell_type": "code",
   "execution_count": 21,
   "metadata": {
    "scrolled": true
   },
   "outputs": [
    {
     "name": "stdout",
     "output_type": "stream",
     "text": [
      "Train columns with null values: \n",
      " Survived         0\n",
      "Pclass           0\n",
      "Name             0\n",
      "Sex              0\n",
      "Age              0\n",
      "SibSp            0\n",
      "Parch            0\n",
      "Fare             0\n",
      "Embarked         0\n",
      "FamilySize       0\n",
      "IsAlone          0\n",
      "Title            0\n",
      "FareBin          0\n",
      "AgeBin           0\n",
      "Sex_Code         0\n",
      "Embarked_Code    0\n",
      "Title_Code       0\n",
      "AgeBin_Code      0\n",
      "FareBin_Code     0\n",
      "dtype: int64\n",
      "----------\n",
      "<class 'pandas.core.frame.DataFrame'>\n",
      "RangeIndex: 891 entries, 0 to 890\n",
      "Data columns (total 19 columns):\n",
      "Survived         891 non-null int64\n",
      "Pclass           891 non-null int64\n",
      "Name             891 non-null object\n",
      "Sex              891 non-null object\n",
      "Age              891 non-null float64\n",
      "SibSp            891 non-null int64\n",
      "Parch            891 non-null int64\n",
      "Fare             891 non-null float64\n",
      "Embarked         891 non-null object\n",
      "FamilySize       891 non-null int64\n",
      "IsAlone          891 non-null int64\n",
      "Title            891 non-null object\n",
      "FareBin          891 non-null category\n",
      "AgeBin           891 non-null category\n",
      "Sex_Code         891 non-null int32\n",
      "Embarked_Code    891 non-null int32\n",
      "Title_Code       891 non-null int32\n",
      "AgeBin_Code      891 non-null int32\n",
      "FareBin_Code     891 non-null int32\n",
      "dtypes: category(2), float64(2), int32(5), int64(6), object(4)\n",
      "memory usage: 102.9+ KB\n",
      "None\n",
      "----------\n",
      "Test/Validation columns with null values: \n",
      " PassengerId        0\n",
      "Pclass             0\n",
      "Name               0\n",
      "Sex                0\n",
      "Age                0\n",
      "SibSp              0\n",
      "Parch              0\n",
      "Ticket             0\n",
      "Fare               0\n",
      "Cabin            327\n",
      "Embarked           0\n",
      "FamilySize         0\n",
      "IsAlone            0\n",
      "Title              0\n",
      "FareBin            0\n",
      "AgeBin             0\n",
      "Sex_Code           0\n",
      "Embarked_Code      0\n",
      "Title_Code         0\n",
      "AgeBin_Code        0\n",
      "FareBin_Code       0\n",
      "dtype: int64\n",
      "----------\n",
      "<class 'pandas.core.frame.DataFrame'>\n",
      "RangeIndex: 418 entries, 0 to 417\n",
      "Data columns (total 21 columns):\n",
      "PassengerId      418 non-null int64\n",
      "Pclass           418 non-null int64\n",
      "Name             418 non-null object\n",
      "Sex              418 non-null object\n",
      "Age              418 non-null float64\n",
      "SibSp            418 non-null int64\n",
      "Parch            418 non-null int64\n",
      "Ticket           418 non-null object\n",
      "Fare             418 non-null float64\n",
      "Cabin            91 non-null object\n",
      "Embarked         418 non-null object\n",
      "FamilySize       418 non-null int64\n",
      "IsAlone          418 non-null int64\n",
      "Title            418 non-null object\n",
      "FareBin          418 non-null category\n",
      "AgeBin           418 non-null category\n",
      "Sex_Code         418 non-null int32\n",
      "Embarked_Code    418 non-null int32\n",
      "Title_Code       418 non-null int32\n",
      "AgeBin_Code      418 non-null int32\n",
      "FareBin_Code     418 non-null int32\n",
      "dtypes: category(2), float64(2), int32(5), int64(6), object(6)\n",
      "memory usage: 54.9+ KB\n",
      "None\n",
      "----------\n"
     ]
    }
   ],
   "source": [
    "print('Train columns with null values: \\n', data1.isnull().sum())\n",
    "print(\"-\"*10)\n",
    "print (data1.info())\n",
    "print(\"-\"*10)\n",
    "\n",
    "print('Test/Validation columns with null values: \\n', data_val.isnull().sum())\n",
    "print(\"-\"*10)\n",
    "print (data_val.info())\n",
    "print(\"-\"*10)"
   ]
  },
  {
   "cell_type": "code",
   "execution_count": 18,
   "metadata": {},
   "outputs": [
    {
     "name": "stdout",
     "output_type": "stream",
     "text": [
      "<class 'pandas.core.frame.DataFrame'>     <class 'pandas.core.frame.DataFrame'>\n"
     ]
    }
   ],
   "source": [
    "#******** for learning *********\n",
    "print( type(data1[data1_x_calc]), '   ' , type(data1[Target]) )"
   ]
  },
  {
   "cell_type": "code",
   "execution_count": 16,
   "metadata": {},
   "outputs": [],
   "source": [
    "\n",
    "train1_x, test1_x, train1_y, test1_y = model_selection.train_test_split(data1[data1_x_calc], data1[Target], random_state = 0)\n",
    "train1_x_bin, test1_x_bin, train1_y_bin, test1_y_bin = model_selection.train_test_split(data1[data1_x_bin], data1[Target] , random_state = 0)\n",
    "train1_x_dummy, test1_x_dummy, train1_y_dummy, test1_y_dummy = model_selection.train_test_split(data1_dummy[data1_x_dummy], data1[Target], random_state = 0)"
   ]
  },
  {
   "cell_type": "markdown",
   "metadata": {},
   "source": [
    "## Veryfying the shape of train1_x & test1_x"
   ]
  },
  {
   "cell_type": "code",
   "execution_count": 19,
   "metadata": {},
   "outputs": [
    {
     "name": "stdout",
     "output_type": "stream",
     "text": [
      "Data1 Shape: (891, 19)\n",
      "Train1 Shape: (668, 8)\n",
      "Test1 Shape: (223, 8)\n"
     ]
    }
   ],
   "source": [
    "print(\"Data1 Shape: {}\".format(data1.shape))\n",
    "print(\"Train1 Shape: {}\".format(train1_x.shape))\n",
    "print(\"Test1 Shape: {}\".format(test1_x.shape))"
   ]
  },
  {
   "cell_type": "markdown",
   "metadata": {},
   "source": [
    "## Perform Exploratory Analysis with Statistics"
   ]
  },
  {
   "cell_type": "code",
   "execution_count": 22,
   "metadata": {},
   "outputs": [
    {
     "name": "stdout",
     "output_type": "stream",
     "text": [
      "Survival Correlation by: Sex\n",
      "      Sex  Survived\n",
      "0  female  0.742038\n",
      "1    male  0.188908\n",
      "Survival Correlation by: Pclass\n",
      "   Pclass  Survived\n",
      "0       1  0.629630\n",
      "1       2  0.472826\n",
      "2       3  0.242363\n",
      "Survival Correlation by: Embarked\n",
      "  Embarked  Survived\n",
      "0        C  0.553571\n",
      "1        Q  0.389610\n",
      "2        S  0.339009\n",
      "Survival Correlation by: Title\n",
      "    Title  Survived\n",
      "0  Master  0.575000\n",
      "1    Misc  0.444444\n",
      "2    Miss  0.697802\n",
      "3      Mr  0.156673\n",
      "4     Mrs  0.792000\n",
      "Survival Correlation by: SibSp\n",
      "   SibSp  Survived\n",
      "0      0  0.345395\n",
      "1      1  0.535885\n",
      "2      2  0.464286\n",
      "3      3  0.250000\n",
      "4      4  0.166667\n",
      "5      5  0.000000\n",
      "6      8  0.000000\n",
      "Survival Correlation by: Parch\n",
      "   Parch  Survived\n",
      "0      0  0.343658\n",
      "1      1  0.550847\n",
      "2      2  0.500000\n",
      "3      3  0.600000\n",
      "4      4  0.000000\n",
      "5      5  0.200000\n",
      "6      6  0.000000\n",
      "Survival Correlation by: FamilySize\n",
      "   FamilySize  Survived\n",
      "0           1  0.303538\n",
      "1           2  0.552795\n",
      "2           3  0.578431\n",
      "3           4  0.724138\n",
      "4           5  0.200000\n",
      "5           6  0.136364\n",
      "6           7  0.333333\n",
      "7           8  0.000000\n",
      "8          11  0.000000\n",
      "Survival Correlation by: IsAlone\n",
      "   IsAlone  Survived\n",
      "0        0  0.505650\n",
      "1        1  0.303538\n",
      "Survived    0    1\n",
      "Title             \n",
      "Master     17   23\n",
      "Misc       15   12\n",
      "Miss       55  127\n",
      "Mr        436   81\n",
      "Mrs        26   99\n"
     ]
    }
   ],
   "source": [
    "for x in data1_x:\n",
    "    if data1[x].dtype != 'float64' :\n",
    "        print('Survival Correlation by:', x)\n",
    "        print( (data1[[x, Target[0]]].groupby( x, as_index = False )).mean() )\n",
    "        #print('-'*10, '\\n')\n",
    "\n",
    "\n",
    "print( pd.crosstab(data1['Title'], data1[ 'Survived' ]  ) )\n"
   ]
  },
  {
   "cell_type": "code",
   "execution_count": 17,
   "metadata": {
    "scrolled": true
   },
   "outputs": [
    {
     "data": {
      "image/png": "[encoded data removed]",
      "text/plain": [
       "<Figure size 1152x864 with 6 Axes>"
      ]
     },
     "metadata": {},
     "output_type": "display_data"
    }
   ],
   "source": [
    "plt.figure(figsize=[16,12])\n",
    "\n",
    "plt.subplot(231)\n",
    "plt.boxplot(x=data1['Fare'])\n",
    "plt.title('Fare Boxplot')\n",
    "plt.ylabel('Fare ($)')\n",
    "\n",
    "plt.subplot(232)\n",
    "plt.boxplot(data1['Age'], showmeans = True, meanline = True)\n",
    "plt.title('Age Boxplot')\n",
    "plt.ylabel('Age (Years)')\n",
    "\n",
    "plt.subplot(233)\n",
    "plt.boxplot(data1['FamilySize'], showmeans = True, meanline = True)\n",
    "plt.title('Family Size Boxplot')\n",
    "plt.ylabel('Family Size (#)')\n",
    "\n",
    "plt.subplot(234)\n",
    "plt.hist(x = [data1[data1['Survived']==1]['Fare'], data1[data1['Survived']==0]['Fare']] , stacked=True, color = ['g', 'r'], label = ['Survived','Dead'])\n",
    "plt.title('Fare Histogram by Survival')\n",
    "plt.xlabel('Fare ($)')\n",
    "plt.ylabel('# of Passengers')\n",
    "plt.legend()\n",
    "\n",
    "plt.subplot(235)\n",
    "plt.hist(x = [data1[data1['Survived']==1]['Age'], data1[data1['Survived']==0]['Age']], \n",
    "         stacked=True, color = ['g','r'],label = ['Survived','Dead'])\n",
    "plt.title('Age Histogram by Survival')\n",
    "plt.xlabel('Age (Years)')\n",
    "plt.ylabel('# of Passengers')\n",
    "plt.legend()\n",
    "\n",
    "plt.subplot(236)\n",
    "plt.hist(x = [data1[data1['Survived']==1]['FamilySize'], data1[data1['Survived']==0]['FamilySize']], stacked=True, color = ['g','r'],label = ['Survived','Dead'])\n",
    "plt.title('Family Size Histogram by Survival')\n",
    "plt.xlabel('Family Size (#)')\n",
    "plt.ylabel('# of Passengers')\n",
    "plt.legend()\n",
    "\n",
    "plt.show()\n"
   ]
  },
  {
   "cell_type": "code",
   "execution_count": 38,
   "metadata": {},
   "outputs": [
    {
     "data": {
      "image/png": "[encoded data removed]",
      "text/plain": [
       "<Figure size 1152x864 with 6 Axes>"
      ]
     },
     "metadata": {},
     "output_type": "display_data"
    }
   ],
   "source": [
    "plt.figure(figsize=[16, 12])\n",
    "\n",
    "plt.subplot(231)\n",
    "sns.barplot(x = 'Embarked', y = 'Survived', data=data1)\n",
    "plt.subplot(232)\n",
    "sns.barplot(x = 'Pclass', y = 'Survived', order=[3,2,1], data=data1 );\n",
    "plt.subplot(233)\n",
    "sns.barplot(x = 'IsAlone', y = 'Survived', order=[1,0], data=data1 );\n",
    "\n",
    "\n",
    "plt.subplot(234)\n",
    "sns.pointplot(x = 'FareBin', y = 'Survived',  data=data1 );\n",
    "plt.subplot(235)\n",
    "sns.pointplot(x = 'AgeBin', y = 'Survived',  data=data1 );\n",
    "plt.subplot(236)\n",
    "sns.pointplot(x = 'FamilySize', y = 'Survived', data=data1 );\n"
   ]
  },
  {
   "cell_type": "code",
   "execution_count": null,
   "metadata": {},
   "outputs": [],
   "source": []
  }
 ],
 "metadata": {
  "kernelspec": {
   "display_name": "Python 3",
   "language": "python",
   "name": "python3"
  },
  "language_info": {
   "codemirror_mode": {
    "name": "ipython",
    "version": 3
   },
   "file_extension": ".py",
   "mimetype": "text/x-python",
   "name": "python",
   "nbconvert_exporter": "python",
   "pygments_lexer": "ipython3",
   "version": "3.6.6"
  }
 },
 "nbformat": 4,
 "nbformat_minor": 2
}
