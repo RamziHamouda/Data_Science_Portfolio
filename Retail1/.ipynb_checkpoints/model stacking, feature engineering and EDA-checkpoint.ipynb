{
 "cells": [
  {
   "cell_type": "code",
   "execution_count": null,
   "metadata": {},
   "outputs": [],
   "source": [
    "import datetime\n",
    "import warnings\n",
    "import numpy as np\n",
    "import pandas as pd\n",
    "import seaborn as sns\n",
    "import matplotlib.pyplot as plt\n",
    "\n",
    "from xgboost import XGBRegressor\n",
    "from xgboost import plot_importance\n",
    "\n",
    "from sklearn.metrics import mean_squared_error\n",
    "from sklearn.linear_model import LinearRegression\n",
    "from sklearn.neighbors import KNeighborsRegressor\n",
    "from sklearn.ensemble import RandomForestRegressor\n",
    "from sklearn.preprocessing import StandardScaler, MinMaxScaler\n",
    "\n",
    "%matplotlib inline\n",
    "sns.set(style=\"darkgrid\")\n",
    "pd.set_option('display.float_format', lambda x: '%.2f' % x)\n",
    "warnings.filterwarnings(\"ignore\")\n",
    "\n",
    "from pandas.testing import assert_frame_equal\n",
    "from lightgbm import LGBMRegressor\n",
    "\n",
    "import math"
   ]
  },
  {
   "cell_type": "code",
   "execution_count": null,
   "metadata": {},
   "outputs": [],
   "source": [
    "sales = pd.read_csv(r\"C:\\Users\\pc\\Desktop\\Data Science Folder\\Retail1\\sales data-set.csv\")\n",
    "\n",
    "stores = pd.read_csv(r\"C:\\Users\\pc\\Desktop\\Data Science Folder\\Retail1\\stores data-set.csv\")\n",
    "\n",
    "features = pd.read_csv(r\"C:\\Users\\pc\\Desktop\\Data Science Folder\\Retail1\\Features data set.csv\")"
   ]
  },
  {
   "cell_type": "code",
   "execution_count": null,
   "metadata": {
    "scrolled": true
   },
   "outputs": [],
   "source": [
    "print( sales.shape )\n",
    "print( stores.shape )\n",
    "print( features.shape)\n",
    "\n",
    "print( sales.describe())\n",
    "print( stores.describe())\n",
    "print( features.describe())\n"
   ]
  },
  {
   "cell_type": "code",
   "execution_count": null,
   "metadata": {
    "scrolled": true
   },
   "outputs": [],
   "source": [
    "print('******\\n', sales.isnull().sum() )\n",
    "\n",
    "print( '*******\\n', stores.isnull().sum() )\n",
    "\n",
    "print( '********\\n' , features.isnull().sum() )"
   ]
  },
  {
   "cell_type": "code",
   "execution_count": null,
   "metadata": {
    "scrolled": true
   },
   "outputs": [],
   "source": [
    "train = sales.merge(features, on=['Store', 'Date', 'IsHoliday'], how='left')\n",
    "train = train.merge(stores, on='Store', how='left')\n",
    "\n",
    "print( train.head() )\n",
    "print( train.shape )\n"
   ]
  },
  {
   "cell_type": "code",
   "execution_count": null,
   "metadata": {
    "scrolled": true
   },
   "outputs": [],
   "source": [
    "train2 = train.copy()\n",
    "\n",
    "test = train2.groupby(by=['Store', 'Dept', 'IsHoliday' ], as_index=False)['Weekly_Sales'].mean()\n",
    "\n",
    "# to set negative values of ONE columns to zero\n",
    "test['Weekly_Sales'][ test['Weekly_Sales']<0 ] = 0\n",
    "\n",
    "print(\" number of negative values in test:    \", test[ test['Weekly_Sales']<0].shape )\n",
    "\n",
    "print(\" ******* train describtion before:   \\n\" , train2.describe() )\n",
    "print(\"Number of negative values before : \" ,train2[ train2['Weekly_Sales']<0].shape )\n",
    "\n",
    "\n",
    "for i in range(len(train)):\n",
    "    if ( train2['Weekly_Sales'][i]<0 ):\n",
    "        train2['Weekly_Sales'][i] = test[ (test['Store']==train2['Store'][i]) & (test['Dept']==train2['Dept'][i]) & \\\n",
    "                                            (test['IsHoliday']==train2['IsHoliday'][i]) ]['Weekly_Sales'] \n",
    "\n",
    "print(\" ******* train describtion after:   \\n\" , train2.describe() )\n",
    "print(\"Number of negative values after : \" ,train2[ train2['Weekly_Sales']<0].shape )\n",
    "\n",
    "\n",
    "    \n",
    "    \n"
   ]
  },
  {
   "cell_type": "code",
   "execution_count": null,
   "metadata": {},
   "outputs": [],
   "source": [
    "df = pd.DataFrame({'Col1': [10, -10, 15, 15, -15, -45],\n",
    "                   'Col2': [13, 23, -18, 33, 14, 48],\n",
    "                      'Col3': [17, 27, 22, 37, 28, 52]})\n",
    "df"
   ]
  },
  {
   "cell_type": "code",
   "execution_count": null,
   "metadata": {
    "scrolled": false
   },
   "outputs": [],
   "source": [
    "df2 = df.copy()\n",
    "\n",
    "df2['Col1'][df2['Col1']<0] = 0\n",
    "df2\n",
    "\n"
   ]
  },
  {
   "cell_type": "code",
   "execution_count": null,
   "metadata": {},
   "outputs": [],
   "source": [
    "df2.describe()['Col1'].reset_index()"
   ]
  },
  {
   "cell_type": "code",
   "execution_count": null,
   "metadata": {},
   "outputs": [],
   "source": [
    "\n",
    "M2 = train2.groupby(by=['Store', 'Dept', 'IsHoliday' ], as_index=False)['MarkDown2'].mean()\n",
    "M3 = train2.groupby(by=['Store', 'Dept', 'IsHoliday' ], as_index=False)['MarkDown3'].mean()\n",
    "\n",
    "\n",
    "# to set negative values of ONE columns to zero\n",
    "M2['MarkDown2'][ M2['MarkDown2']<0 ] = 0\n",
    "M3['MarkDown3'][ M3['MarkDown3']<0 ] = 0\n",
    "\n",
    "print(\" ******* train describtion before:   \\n\" , train2.describe()['MarkDown2'].reset_index(), '\\n', train2.describe()['MarkDown3'].reset_index() )\n",
    "\n",
    "for i in range(len(train)):\n",
    "    if ( train2['MarkDown2'][i]<0 ):\n",
    "        train2['MarkDown2'][i] = M2[ (M2['Store']==train2['Store'][i]) & (M2['Dept']==train2['Dept'][i]) & \\\n",
    "                                            (M2['IsHoliday']==train2['IsHoliday'][i]) ]['MarkDown2'] \n",
    "for i in range(len(train)):\n",
    "    if ( train2['MarkDown3'][i]<0 ):\n",
    "        train2['MarkDown3'][i] = M3[ (M3['Store']==train2['Store'][i]) & (M3['Dept']==train2['Dept'][i]) & \\\n",
    "                                            (M3['IsHoliday']==train2['IsHoliday'][i]) ]['MarkDown3'] \n",
    "\n",
    "print(\" ******* train describtion after:   \\n\" , train2.describe()['MarkDown2'].reset_index(), '\\n', train2.describe()['MarkDown3'].reset_index() )\n"
   ]
  },
  {
   "cell_type": "code",
   "execution_count": null,
   "metadata": {},
   "outputs": [],
   "source": [
    "train3 = train2.copy()\n",
    "\n",
    "train3 = train3.fillna(0)\n",
    "train2.isnull().sum()"
   ]
  }
 ],
 "metadata": {
  "kernelspec": {
   "display_name": "Python 3",
   "language": "python",
   "name": "python3"
  },
  "language_info": {
   "codemirror_mode": {
    "name": "ipython",
    "version": 3
   },
   "file_extension": ".py",
   "mimetype": "text/x-python",
   "name": "python",
   "nbconvert_exporter": "python",
   "pygments_lexer": "ipython3",
   "version": "3.7.0"
  }
 },
 "nbformat": 4,
 "nbformat_minor": 2
}
