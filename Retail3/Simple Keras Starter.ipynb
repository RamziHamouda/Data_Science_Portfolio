{
 "cells": [
  {
   "cell_type": "code",
   "execution_count": 1,
   "metadata": {
    "_cell_guid": "b1076dfc-b9ad-4769-8c92-a6c4dae69d19",
    "_uuid": "8f2839f25d086af736a60e9eeb907d3b93b6e0e5"
   },
   "outputs": [],
   "source": [
    "import numpy as np \n",
    "import pandas as pd"
   ]
  },
  {
   "cell_type": "markdown",
   "metadata": {
    "_uuid": "9c4cd7fc9579ede1286b2d13759c9fa6d454ce15"
   },
   "source": [
    "# Loading the data"
   ]
  },
  {
   "cell_type": "markdown",
   "metadata": {
    "_uuid": "56e0329314636c4e7001bd00e34a7f1080e07d96"
   },
   "source": [
    "Loading the train data and creating simple features"
   ]
  },
  {
   "cell_type": "code",
   "execution_count": 5,
   "metadata": {
    "_cell_guid": "79c7e3d0-c299-4dcb-8224-4455121ee9b0",
    "_uuid": "d629ff2d2480ee46fbb7e2d37f6b5fab8052498a"
   },
   "outputs": [],
   "source": [
    "train_data = pd.read_csv(r'C:\\Users\\pc\\Desktop\\Data Science Folder\\Retail3\\train.csv', parse_dates=True, index_col =0)\n",
    "y_train = train_data.iloc[:,-1].values\n",
    "train_data.drop('sales', 1, inplace=True)\n",
    "train_data['y'] = train_data.index.year-train_data.index.year.min()\n",
    "train_data['m'] = train_data.index.month\n",
    "train_data['d'] = train_data.index.day\n",
    "train_data['dow'] = train_data.index.dayofweek"
   ]
  },
  {
   "cell_type": "markdown",
   "metadata": {
    "_uuid": "aea853dc77fdcf2a8fb1f2202a2945388c28d129"
   },
   "source": [
    "Splitting the data if cross validation is needed, but for the submission it is not needed."
   ]
  },
  {
   "cell_type": "code",
   "execution_count": 6,
   "metadata": {
    "_uuid": "28c2546eddd0cc784e7f3fab392f925f119c3ded"
   },
   "outputs": [],
   "source": [
    "from sklearn.model_selection import train_test_split\n",
    "x_train, x_val, y_train, y_val = train_test_split(train_data, y_train, test_size=.1, random_state=0, shuffle = True)"
   ]
  },
  {
   "cell_type": "markdown",
   "metadata": {
    "_uuid": "e948db75f965b5532460ef1dba1f6d6813c56040"
   },
   "source": [
    "Determining the categorical variables. Only year is not categorical, as the value of years are numerically comparable."
   ]
  },
  {
   "cell_type": "code",
   "execution_count": 7,
   "metadata": {
    "_uuid": "ede9acc2d2a692f9b5a04a517fdb6802089e617b"
   },
   "outputs": [],
   "source": [
    "cat_vars = list(train_data.columns)\n",
    "cat_vars.remove('y')\n",
    "cont_vars = ['y']"
   ]
  },
  {
   "cell_type": "markdown",
   "metadata": {
    "_uuid": "b2788123556e64cc3b6ad3afaa0b9e4be3c6096f"
   },
   "source": [
    "Structuring data for training and validation. You will see in the Keras model why we had to form the data like this( A list of numpy arrays)."
   ]
  },
  {
   "cell_type": "code",
   "execution_count": 8,
   "metadata": {
    "_uuid": "6e90ffbbfaaa93c1ba3f3552e8c6b61b4abd6cee"
   },
   "outputs": [],
   "source": [
    "X_train = []\n",
    "X_val = []\n",
    "X_train.append(x_train[cont_vars].astype('float32').values)\n",
    "X_val.append(x_val[cont_vars].astype('float32').values)\n",
    "for cat in cat_vars:\n",
    "    X_train.append(x_train[cat].values)\n",
    "    X_val.append(x_val[cat].values)"
   ]
  },
  {
   "cell_type": "markdown",
   "metadata": {
    "_uuid": "51246e78c682af3faf4d80c0134e9e2fb570b65c"
   },
   "source": [
    "Determining the embedding size for each category. The formula has been working good in practice."
   ]
  },
  {
   "cell_type": "code",
   "execution_count": 9,
   "metadata": {
    "_uuid": "c5c94c1b18bc6fe2bbec53666a7db79373f9f1e3"
   },
   "outputs": [],
   "source": [
    "cat_sizes = {}\n",
    "cat_embsizes = {}\n",
    "for cat in cat_vars:\n",
    "    cat_sizes[cat] = train_data[cat].nunique()\n",
    "    cat_embsizes[cat] = min(50, cat_sizes[cat]//2+1)"
   ]
  },
  {
   "cell_type": "code",
   "execution_count": 10,
   "metadata": {
    "_uuid": "22e0aa21526a9cb23a3508f45e387b1b05ed8464",
    "scrolled": true
   },
   "outputs": [
    {
     "data": {
      "text/plain": [
       "{'store': 6, 'item': 26, 'm': 7, 'd': 16, 'dow': 4}"
      ]
     },
     "execution_count": 10,
     "metadata": {},
     "output_type": "execute_result"
    }
   ],
   "source": [
    "cat_embsizes\n"
   ]
  },
  {
   "cell_type": "markdown",
   "metadata": {
    "_uuid": "829bfec0350247a1f976f4220580824db2374f19"
   },
   "source": [
    "Loading the test data."
   ]
  },
  {
   "cell_type": "code",
   "execution_count": 12,
   "metadata": {
    "_uuid": "5be09d06d851dd5dd85dc28ed15f3ab3ba747270"
   },
   "outputs": [],
   "source": [
    "test_data = pd.read_csv(r'C:\\Users\\pc\\Desktop\\Data Science Folder\\Retail3\\test.csv', parse_dates=True, index_col =1)\n",
    "test_data['y'] = test_data.index.year-train_data.index.year.min()\n",
    "test_data['m'] = test_data.index.month\n",
    "test_data['d'] = test_data.index.day\n",
    "test_data['dow'] = test_data.index.dayofweek\n",
    "# test_data['special_store'] = test_data['store'].isin([5,6,7])*1"
   ]
  },
  {
   "cell_type": "code",
   "execution_count": 13,
   "metadata": {
    "_uuid": "821bdc8dfb4ea817bb6675984244558af3192fc8"
   },
   "outputs": [],
   "source": [
    "X_test = []\n",
    "X_test.append(test_data[cont_vars].astype('float32').values)\n",
    "for cat in cat_vars:\n",
    "    X_test.append(test_data[cat].values)"
   ]
  },
  {
   "cell_type": "markdown",
   "metadata": {
    "_uuid": "9650ebc3846537ce3a9740321fea97ce110089d1"
   },
   "source": [
    "# Keras Model"
   ]
  },
  {
   "cell_type": "code",
   "execution_count": 14,
   "metadata": {
    "_uuid": "0015f3e85a23adea28400b044336c9863f4720ad"
   },
   "outputs": [
    {
     "ename": "ModuleNotFoundError",
     "evalue": "No module named 'keras'",
     "output_type": "error",
     "traceback": [
      "\u001b[1;31m---------------------------------------------------------------------------\u001b[0m",
      "\u001b[1;31mModuleNotFoundError\u001b[0m                       Traceback (most recent call last)",
      "\u001b[1;32m<ipython-input-14-49a23637dcd6>\u001b[0m in \u001b[0;36m<module>\u001b[1;34m()\u001b[0m\n\u001b[1;32m----> 1\u001b[1;33m \u001b[1;32mfrom\u001b[0m \u001b[0mkeras\u001b[0m\u001b[1;33m.\u001b[0m\u001b[0mlayers\u001b[0m \u001b[1;32mimport\u001b[0m \u001b[0mDense\u001b[0m\u001b[1;33m,\u001b[0m \u001b[0mDropout\u001b[0m\u001b[1;33m,\u001b[0m \u001b[0mEmbedding\u001b[0m\u001b[1;33m,\u001b[0m \u001b[0mInput\u001b[0m\u001b[1;33m,\u001b[0m \u001b[0mReshape\u001b[0m\u001b[1;33m,\u001b[0m \u001b[0mConcatenate\u001b[0m\u001b[1;33m\u001b[0m\u001b[0m\n\u001b[0m\u001b[0;32m      2\u001b[0m \u001b[1;32mfrom\u001b[0m \u001b[0mkeras\u001b[0m\u001b[1;33m.\u001b[0m\u001b[0mmodels\u001b[0m \u001b[1;32mimport\u001b[0m \u001b[0mModel\u001b[0m\u001b[1;33m\u001b[0m\u001b[0m\n",
      "\u001b[1;31mModuleNotFoundError\u001b[0m: No module named 'keras'"
     ]
    }
   ],
   "source": [
    "from keras.layers import Dense, Dropout, Embedding, Input, Reshape, Concatenate\n",
    "from keras.models import Model"
   ]
  },
  {
   "cell_type": "markdown",
   "metadata": {
    "_uuid": "50c390c662feb8c8cbe51d30cadc9c077c2292cd"
   },
   "source": [
    "Each category has to have its own embedding matrix so they should be individually added as inputs. A very simple model of input-> embedding-> dense-> dense-> output is used"
   ]
  },
  {
   "cell_type": "code",
   "execution_count": null,
   "metadata": {
    "_uuid": "0d6eff50a10c202678f9add0486b17b228042ba1"
   },
   "outputs": [],
   "source": [
    "import keras.backend as K\n",
    "\n",
    "def custom_smape(x, x_):\n",
    "    return K.mean(2*K.abs(x-x_)/(K.abs(x)+K.abs(x_)))"
   ]
  },
  {
   "cell_type": "code",
   "execution_count": null,
   "metadata": {
    "_uuid": "f1c9af648207e57b1ba9bd069aa1cb27b21a8b2a"
   },
   "outputs": [],
   "source": [
    "y = Input((len(cont_vars),), name='cont_vars')\n",
    "ins = [y]\n",
    "concat = [y]\n",
    "for cat in cat_vars:\n",
    "    x = Input((1,), name=cat)\n",
    "    ins.append(x)\n",
    "    x = Embedding(cat_sizes[cat]+1, cat_embsizes[cat], input_length=1)(x)\n",
    "    x = Reshape((cat_embsizes[cat],))(x)\n",
    "    concat.append(x)\n",
    "y = Concatenate()(concat)\n",
    "y = Dense(100, activation= 'relu')(y)\n",
    "# y = Dense(100, activation= 'relu')(y)\n",
    "y = Dense(1)(y)\n",
    "model = Model(ins, y)\n",
    "model.summary()\n",
    "model.compile('adadelta', custom_smape)"
   ]
  },
  {
   "cell_type": "markdown",
   "metadata": {
    "_uuid": "97d3f00f88acbb95087e33c23538f60a44b99946"
   },
   "source": [
    "Only 2 epochs are enough to train the network."
   ]
  },
  {
   "cell_type": "code",
   "execution_count": null,
   "metadata": {
    "_uuid": "73ebdbec3c36e73ef1a4718a6589a5d2e26539d5"
   },
   "outputs": [],
   "source": [
    "model.fit(X_train, y_train, 64, 2, validation_data=[X_val, y_val])"
   ]
  },
  {
   "cell_type": "markdown",
   "metadata": {
    "_uuid": "fd5678ac497bbb124c04a0991ec9a7892ab26426",
    "collapsed": true
   },
   "source": [
    "Submitting the test results."
   ]
  },
  {
   "cell_type": "code",
   "execution_count": null,
   "metadata": {
    "_uuid": "b6af028b73388739b60ab13043106e49353f0415",
    "collapsed": true
   },
   "outputs": [],
   "source": [
    "test_preds = model.predict(X_test)\n",
    "sample_data = pd.read_csv(\"../input/sample_submission.csv\", index_col=0)\n",
    "sample_data['sales'] = test_preds\n",
    "sample_data.to_csv('preds.csv')"
   ]
  }
 ],
 "metadata": {
  "kernelspec": {
   "display_name": "Python 3",
   "language": "python",
   "name": "python3"
  },
  "language_info": {
   "codemirror_mode": {
    "name": "ipython",
    "version": 3
   },
   "file_extension": ".py",
   "mimetype": "text/x-python",
   "name": "python",
   "nbconvert_exporter": "python",
   "pygments_lexer": "ipython3",
   "version": "3.7.0"
  }
 },
 "nbformat": 4,
 "nbformat_minor": 1
}
